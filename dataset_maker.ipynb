{
 "cells": [
  {
   "cell_type": "code",
   "execution_count": 1,
   "metadata": {},
   "outputs": [
    {
     "name": "stderr",
     "output_type": "stream",
     "text": [
      "Using TensorFlow backend.\n"
     ]
    }
   ],
   "source": [
    "#Create any dataset for any type of input by Meltem Atay\n",
    "#Prepare input packages\n",
    "import os\n",
    "import numpy as np\n",
    "from os import listdir\n",
    "from keras.utils import to_categorical\n",
    "from sklearn.model_selection import train_test_split \n",
    "### In case of images from scipy.misc import  imread, imresize could be necessary"
   ]
  },
  {
   "cell_type": "code",
   "execution_count": null,
   "metadata": {},
   "outputs": [],
   "source": [
    "# Folder structure\n",
    "#-input_data\n",
    "#--label1\n",
    "#---class1data1\n",
    "#---class1data2\n",
    "#---class1data3\n",
    "#... (similarly all data of label 1 goes like that)\n",
    "#--label2\n",
    "#---class2data1\n",
    "#---class2data2\n",
    "#---class2data3\n",
    "#... (similarly all data of label 2 goes like that)\n",
    "#--label3\n",
    "#---class3data1\n",
    "#---class3data2\n",
    "#---class23data3\n",
    "#... (similarly all data of label 3 goes like that)\n",
    "#..... same structure until the end of your labels and dataset"
   ]
  },
  {
   "cell_type": "code",
   "execution_count": 2,
   "metadata": {},
   "outputs": [],
   "source": [
    "# Give data dimensions in case of 3D data there would be 3 dimensions to provide, \n",
    "# if they are the same just repeat one dimension 3 times...\n",
    "data_dim1= # 1st dimension of your data\n",
    "data_dim2= # 2nd dimension of your data\n",
    "data_dim3= # 3rd dimension of your data\n",
    "channels = 1 # 1: Grayscale, 3: RGB\n",
    "labels = 2 # how many classes in dataset?\n",
    "test_ratio = 0.2 # split 20% of data as test set the 80 % would be the training set\n",
    "input_folder = 'alldata'\n",
    "data_folder = 'data1'"
   ]
  },
  {
   "cell_type": "code",
   "execution_count": 3,
   "metadata": {},
   "outputs": [],
   "source": [
    "def get_data(input_folder):\n",
    "    my_data = np.load(input_folder)\n",
    "    #my_data = imread(input_folder, flatten= True if channels == 1 else False) # to make all the color layers into a single grayscale layer\n",
    "    #my_data = imresize(my_data, (dim1, dim2, channels)) \n",
    "    # if your data is a picture uncomment the code above \n",
    "    # so you can read your data using imread and resize your data using imresize\n",
    "    return my_data"
   ]
  },
  {
   "cell_type": "code",
   "execution_count": 4,
   "metadata": {},
   "outputs": [],
   "source": [
    "labels = listdir(input_folder) \n",
    "X, Y = [], []"
   ]
  },
  {
   "cell_type": "code",
   "execution_count": 5,
   "metadata": {
    "scrolled": true
   },
   "outputs": [],
   "source": [
    "# now merging data with labels\n",
    "for i, label in enumerate(labels):\n",
    "    label_of_folder = input_folder+'/'+label\n",
    "    for my_data_labeled in listdir(label_of_folder):\n",
    "        my_data = get_data(label_of_folder+'/'+my_data_labeled)\n",
    "        X.append(my_data)\n",
    "        Y.append(i)"
   ]
  },
  {
   "cell_type": "code",
   "execution_count": 6,
   "metadata": {},
   "outputs": [],
   "source": [
    "X = np.array(X).astype('float32')/255.\n",
    "print(X.shape)"
   ]
  },
  {
   "cell_type": "code",
   "execution_count": null,
   "metadata": {},
   "outputs": [],
   "source": [
    "#X = X.reshape(data_dim1, data_dim2, data_dim3, channels) \n",
    "#X = X.reshape(X.shape[0], data_dim2, data_dim3, channels) #same outputs..."
   ]
  },
  {
   "cell_type": "code",
   "execution_count": null,
   "metadata": {},
   "outputs": [],
   "source": [
    "X = X.reshape(X.shape[0], X.shape[1], X.shape[2], X.shape[3])  #I know X.shape[3] is the channel info\n",
    "# instead of providing additional dimensions if data in its form "
   ]
  },
  {
   "cell_type": "code",
   "execution_count": null,
   "metadata": {},
   "outputs": [],
   "source": [
    "Y = np.array(Y).astype('float32')\n",
    "print(Y.shape)"
   ]
  },
  {
   "cell_type": "code",
   "execution_count": null,
   "metadata": {},
   "outputs": [],
   "source": [
    "Y = to_categorical(Y, labels)"
   ]
  },
  {
   "cell_type": "code",
   "execution_count": 7,
   "metadata": {},
   "outputs": [],
   "source": [
    "if not os.path.exists(data_folder+'/'):\n",
    "    os.makedirs(data_folder+'/')"
   ]
  },
  {
   "cell_type": "code",
   "execution_count": null,
   "metadata": {},
   "outputs": [],
   "source": [
    "x_train, x_test, y_train, y_test = train_test_split(X, Y, test_size=test_ratio, random_state=42)"
   ]
  },
  {
   "cell_type": "code",
   "execution_count": null,
   "metadata": {},
   "outputs": [],
   "source": [
    "x_test, x_val, y_test, y_val = train_test_split(x_test, y_test, test_size=0.5, random_state=42)"
   ]
  },
  {
   "cell_type": "code",
   "execution_count": 8,
   "metadata": {},
   "outputs": [],
   "source": [
    "np.save(data_folder+'/x_train.npy', x_train)"
   ]
  },
  {
   "cell_type": "code",
   "execution_count": null,
   "metadata": {},
   "outputs": [],
   "source": [
    "np.save(data_folder+'/x_test.npy', x_test)"
   ]
  },
  {
   "cell_type": "code",
   "execution_count": null,
   "metadata": {},
   "outputs": [],
   "source": [
    "np.save(data_folder+'/x_val.npy', x_test)"
   ]
  },
  {
   "cell_type": "code",
   "execution_count": null,
   "metadata": {},
   "outputs": [],
   "source": [
    "np.save(data_folder+'/y_train.npy', y_train)"
   ]
  },
  {
   "cell_type": "code",
   "execution_count": null,
   "metadata": {},
   "outputs": [],
   "source": [
    "np.save(data_folder+'/y_test.npy', y_test)"
   ]
  },
  {
   "cell_type": "code",
   "execution_count": null,
   "metadata": {},
   "outputs": [],
   "source": [
    "np.save(data_folder+'/y_val.npy', y_test)"
   ]
  }
 ],
 "metadata": {
  "kernelspec": {
   "display_name": "Python 3",
   "language": "python",
   "name": "python3"
  },
  "language_info": {
   "codemirror_mode": {
    "name": "ipython",
    "version": 3
   },
   "file_extension": ".py",
   "mimetype": "text/x-python",
   "name": "python",
   "nbconvert_exporter": "python",
   "pygments_lexer": "ipython3",
   "version": "3.5.2"
  }
 },
 "nbformat": 4,
 "nbformat_minor": 2
}
